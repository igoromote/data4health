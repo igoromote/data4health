{
 "cells": [
  {
   "cell_type": "markdown",
   "metadata": {},
   "source": [
    "# Decision Tree"
   ]
  },
  {
   "cell_type": "code",
   "execution_count": null,
   "metadata": {},
   "outputs": [],
   "source": [
    "import csv\n",
    "import pandas as pd\n",
    "from sklearn import tree\n",
    "import pydotplus\n",
    "from sklearn.tree import DecisionTreeClassifier\n",
    "import matplotlib.pyplot as plt\n",
    "import matplotlib.image as pltimg\n",
    "from sklearn.preprocessing import OneHotEncoder\n",
    "from sklearn.datasets import make_classification\n",
    "from sklearn.linear_model import LogisticRegression\n",
    "from sklearn.model_selection import train_test_split"
   ]
  },
  {
   "cell_type": "code",
   "execution_count": null,
   "metadata": {},
   "outputs": [],
   "source": [
    "def mapping(df):\n",
    "    df_values = df.values\n",
    "    dict_to_map = {}\n",
    "    count = 0\n",
    "    for i in df_values:\n",
    "        if (i not in dict_to_map):\n",
    "            dict_to_map[i] = count\n",
    "            count = count+1\n",
    "    return dict_to_map"
   ]
  },
  {
   "cell_type": "code",
   "execution_count": null,
   "metadata": {},
   "outputs": [],
   "source": [
    "map_grau_de_risco = {\n",
    "    'Alto Risco': 1,\n",
    "    'Baixo Risco': 0\n",
    "}"
   ]
  },
  {
   "cell_type": "code",
   "execution_count": null,
   "metadata": {},
   "outputs": [],
   "source": [
    "map_segmento = {\n",
    "    'PRODUTOS': 1,\n",
    "    'SERVIÇOS': 0\n",
    "}"
   ]
  },
  {
   "cell_type": "code",
   "execution_count": null,
   "metadata": {},
   "outputs": [],
   "source": [
    "map_licenciados = {\n",
    "    'Não Licenciados': 0,\n",
    "    'Em processo': 1,\n",
    "    'Licenciados' : 2\n",
    "}"
   ]
  },
  {
   "cell_type": "code",
   "execution_count": null,
   "metadata": {},
   "outputs": [],
   "source": [
    "db = pd.read_csv('../data/processed/db_final.csv')"
   ]
  },
  {
   "cell_type": "code",
   "execution_count": null,
   "metadata": {},
   "outputs": [],
   "source": [
    "features = ['Grau de Risco', 'SEGMENTO DA ATIVIDADE ECONÔMICA']\n",
    "target = ['label_licenciados']"
   ]
  },
  {
   "cell_type": "code",
   "execution_count": null,
   "metadata": {
    "scrolled": true
   },
   "outputs": [],
   "source": [
    "output_regiao = pd.get_dummies(db['Classificação Manual'], prefix='regiao')\n",
    "output_subgrupo = pd.get_dummies(db['SUBGRUPO'], prefix='subgrupo')"
   ]
  },
  {
   "cell_type": "code",
   "execution_count": null,
   "metadata": {},
   "outputs": [],
   "source": [
    "db = pd.concat([db, output_regiao], axis = 1)\n",
    "db = pd.concat([db, output_subgrupo], axis = 1)"
   ]
  },
  {
   "cell_type": "code",
   "execution_count": null,
   "metadata": {},
   "outputs": [],
   "source": [
    "for i in output_regiao.columns:\n",
    "    features.append(i)\n",
    "for i in output_subgrupo.columns:\n",
    "    features.append(i)"
   ]
  },
  {
   "cell_type": "code",
   "execution_count": null,
   "metadata": {},
   "outputs": [],
   "source": [
    "features"
   ]
  },
  {
   "cell_type": "code",
   "execution_count": null,
   "metadata": {},
   "outputs": [],
   "source": [
    "X = db[features]\n",
    "y = db[target]"
   ]
  },
  {
   "cell_type": "code",
   "execution_count": null,
   "metadata": {},
   "outputs": [],
   "source": [
    "X['Grau de Risco'] = X['Grau de Risco'].map(map_grau_de_risco)\n",
    "X['SEGMENTO DA ATIVIDADE ECONÔMICA'] = X['SEGMENTO DA ATIVIDADE ECONÔMICA'].map(map_segmento)\n",
    "y['label_licenciados'] = y['label_licenciados'].map(map_licenciados)"
   ]
  },
  {
   "cell_type": "code",
   "execution_count": null,
   "metadata": {},
   "outputs": [],
   "source": [
    "X_train, X_test, y_train, y_test = train_test_split(X, y, test_size=0.1, random_state=1)\n",
    "X_train, X_val, y_train, y_val = train_test_split(X_train, y_train, test_size=0.167, random_state=1)"
   ]
  },
  {
   "cell_type": "code",
   "execution_count": null,
   "metadata": {},
   "outputs": [],
   "source": [
    "dt_hyper_param_max_depth = list(range(2,11))\n",
    "dt_hyper_param_min_samples_split = list(range(2,1000))\n",
    "# i = 10\n",
    "# while(i < 100):\n",
    "#     dt_hyper_param_min_samples_split.append(int(len(X_train)/i))\n",
    "#     i = i + 10"
   ]
  },
  {
   "cell_type": "code",
   "execution_count": null,
   "metadata": {},
   "outputs": [],
   "source": [
    "best_score = 0\n",
    "best_max_depth = 0\n",
    "best_min_samples_split = 0"
   ]
  },
  {
   "cell_type": "code",
   "execution_count": null,
   "metadata": {},
   "outputs": [],
   "source": [
    "for i in dt_hyper_param_max_depth:\n",
    "    for j in dt_hyper_param_min_samples_split:\n",
    "        print(\"Testing: \")\n",
    "        print(i)\n",
    "        print(j)\n",
    "        dtree = DecisionTreeClassifier(max_depth = i, min_samples_split = j)\n",
    "        dtree = dtree.fit(X_train, y_train)\n",
    "        if(dtree.score(X_val, y_val) > best_score):\n",
    "            best_score = dtree.score(X_val, y_val)\n",
    "            best_max_depth = i\n",
    "            best_min_samples_split = j\n",
    "            best_dtree = dtree\n",
    "data = tree.export_graphviz(best_dtree, out_file=None, class_names=['Não Licenciados','Em processo','Licenciados'])\n",
    "graph = pydotplus.graph_from_dot_data(data)\n",
    "graph.write_png('../reports/figures/decision_tree.png')"
   ]
  },
  {
   "cell_type": "code",
   "execution_count": null,
   "metadata": {},
   "outputs": [],
   "source": [
    "dtree = DecisionTreeClassifier()\n",
    "dtree = dtree.fit(X_train, y_train)\n",
    "dtree.score(X_val, y_val)"
   ]
  },
  {
   "cell_type": "code",
   "execution_count": null,
   "metadata": {},
   "outputs": [],
   "source": [
    "\n",
    "data = tree.export_graphviz(best_dtree, out_file=None, class_names=['Não Licenciados','Em processo','Licenciados'])\n",
    "graph = pydotplus.graph_from_dot_data(data)\n",
    "graph.write_png('../reports/figures/decision_tree.png')"
   ]
  },
  {
   "cell_type": "code",
   "execution_count": null,
   "metadata": {},
   "outputs": [],
   "source": [
    "best_dtree.score(X_test, y_test)"
   ]
  },
  {
   "cell_type": "markdown",
   "metadata": {},
   "source": [
    "# Regressão Logística"
   ]
  },
  {
   "cell_type": "code",
   "execution_count": null,
   "metadata": {},
   "outputs": [],
   "source": [
    "solvers = ['newton-cg', 'lbfgs', 'liblinear', 'sag', 'saga']"
   ]
  },
  {
   "cell_type": "code",
   "execution_count": null,
   "metadata": {},
   "outputs": [],
   "source": [
    "max_iter = [100, 200, 300, 400, 500, 600, 700, 800, 900, 1000]"
   ]
  },
  {
   "cell_type": "code",
   "execution_count": null,
   "metadata": {},
   "outputs": [],
   "source": [
    "multi_class_params = ['auto', 'ovr', 'multinomial']"
   ]
  },
  {
   "cell_type": "code",
   "execution_count": null,
   "metadata": {},
   "outputs": [],
   "source": [
    "model = LogisticRegression(multi_class='multinomial', solver = 'lbfgs')\n",
    "fitting = model.fit(X_train, y_train)"
   ]
  },
  {
   "cell_type": "code",
   "execution_count": null,
   "metadata": {
    "scrolled": true
   },
   "outputs": [],
   "source": [
    "best_solver = \"\"\n",
    "best_iter = 0\n",
    "best_multi_class = \"\"\n",
    "best_score = 0\n",
    "for i in solvers:\n",
    "    for j in max_iter:\n",
    "        for k in multi_class_params:\n",
    "            try:\n",
    "                model = LogisticRegression(multi_class = k, max_iter = j, solver = i)\n",
    "                fitting = model.fit(X_train, y_train)\n",
    "                if(fitting.score(X_val, y_val) > best_score):\n",
    "                    best_fitting = fitting\n",
    "                    best_score = fitting.score(X_val, y_val)\n",
    "                    best_multi_class = k\n",
    "                    best_iter = j\n",
    "                    best_solver = i\n",
    "            except Exception as e:\n",
    "                print(e)\n",
    "print(\"Best solver: \"+best_solver)\n",
    "print(\"with max_iter: \"+str(best_iter))\n",
    "print(\"with multi_class: \"+best_multi_class)\n",
    "print(\"Achieved a score of: \"+str(best_score))"
   ]
  },
  {
   "cell_type": "markdown",
   "metadata": {},
   "source": [
    "Utilizar o melhor modelo na base de teste"
   ]
  },
  {
   "cell_type": "code",
   "execution_count": null,
   "metadata": {},
   "outputs": [],
   "source": [
    "best_fitting.score(X_test, y_test)"
   ]
  },
  {
   "cell_type": "code",
   "execution_count": null,
   "metadata": {},
   "outputs": [],
   "source": [
    "accurracy = sum(true_pred)/len(true_pred)\n",
    "recall = "
   ]
  }
 ],
 "metadata": {
  "kernelspec": {
   "display_name": "Python 3",
   "language": "python",
   "name": "python3"
  },
  "language_info": {
   "codemirror_mode": {
    "name": "ipython",
    "version": 3
   },
   "file_extension": ".py",
   "mimetype": "text/x-python",
   "name": "python",
   "nbconvert_exporter": "python",
   "pygments_lexer": "ipython3",
   "version": "3.8.5"
  }
 },
 "nbformat": 4,
 "nbformat_minor": 4
}
