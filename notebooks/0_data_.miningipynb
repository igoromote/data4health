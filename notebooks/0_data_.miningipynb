{
 "cells": [
  {
   "cell_type": "code",
   "execution_count": 99,
   "metadata": {},
   "outputs": [],
   "source": [
    "import csv\n",
    "import pandas as pd\n",
    "from sklearn import tree\n",
    "import pydotplus\n",
    "from sklearn.tree import DecisionTreeClassifier\n",
    "import matplotlib.pyplot as plt\n",
    "import matplotlib.image as pltimg\n",
    "from sklearn.preprocessing import OneHotEncoder"
   ]
  },
  {
   "cell_type": "code",
   "execution_count": 109,
   "metadata": {},
   "outputs": [],
   "source": [
    "def mapping(df):\n",
    "    df_values = df.values\n",
    "    dict_to_map = {}\n",
    "    count = 0\n",
    "    for i in df_values:\n",
    "        if (i not in dict_to_map):\n",
    "            dict_to_map[i] = count\n",
    "            count = count+1\n",
    "    return dict_to_map"
   ]
  },
  {
   "cell_type": "code",
   "execution_count": 136,
   "metadata": {},
   "outputs": [],
   "source": [
    "map_grau_de_risco = {\n",
    "    'Alto Risco': 1,\n",
    "    'Baixo Risco': 0\n",
    "}"
   ]
  },
  {
   "cell_type": "code",
   "execution_count": 138,
   "metadata": {},
   "outputs": [],
   "source": [
    "map_segmento = {\n",
    "    'PRODUTOS': 1,\n",
    "    'SERVIÇOS': 0\n",
    "}"
   ]
  },
  {
   "cell_type": "code",
   "execution_count": 158,
   "metadata": {},
   "outputs": [],
   "source": [
    "map_licenciados = {\n",
    "    'Não Licenciados': 0,\n",
    "    'Em processo': 1,\n",
    "    'Licenciados' : 2\n",
    "}"
   ]
  },
  {
   "cell_type": "code",
   "execution_count": 157,
   "metadata": {},
   "outputs": [
    {
     "data": {
      "text/plain": [
       "array(['Em processo', 'Não Licenciados', 'Licenciados'], dtype=object)"
      ]
     },
     "execution_count": 157,
     "metadata": {},
     "output_type": "execute_result"
    }
   ],
   "source": [
    "y['label_licenciados'].unique()"
   ]
  },
  {
   "cell_type": "code",
   "execution_count": 137,
   "metadata": {},
   "outputs": [
    {
     "data": {
      "text/plain": [
       "array(['PRODUTOS', 'SERVIÇOS'], dtype=object)"
      ]
     },
     "execution_count": 137,
     "metadata": {},
     "output_type": "execute_result"
    }
   ],
   "source": [
    "db['SEGMENTO DA ATIVIDADE ECONÔMICA'].unique()"
   ]
  },
  {
   "cell_type": "code",
   "execution_count": 150,
   "metadata": {},
   "outputs": [],
   "source": [
    "db = pd.read_csv('./db_final.csv')"
   ]
  },
  {
   "cell_type": "code",
   "execution_count": 151,
   "metadata": {},
   "outputs": [],
   "source": [
    "features = ['Grau de Risco', 'SEGMENTO DA ATIVIDADE ECONÔMICA']\n",
    "target = ['label_licenciados']"
   ]
  },
  {
   "cell_type": "code",
   "execution_count": 152,
   "metadata": {
    "scrolled": true
   },
   "outputs": [],
   "source": [
    "output_regiao = pd.get_dummies(db['Classificação Manual'], prefix='regiao')\n",
    "output_subgrupo = pd.get_dummies(db['SUBGRUPO'], prefix='subgrupo')"
   ]
  },
  {
   "cell_type": "code",
   "execution_count": 153,
   "metadata": {},
   "outputs": [],
   "source": [
    "db = pd.concat([db, output_regiao], axis = 1)\n",
    "db = pd.concat([db, output_subgrupo], axis = 1)"
   ]
  },
  {
   "cell_type": "code",
   "execution_count": 154,
   "metadata": {},
   "outputs": [],
   "source": [
    "for i in output_regiao.columns:\n",
    "    features.append(i)\n",
    "for i in output_subgrupo.columns:\n",
    "    features.append(i)"
   ]
  },
  {
   "cell_type": "code",
   "execution_count": 155,
   "metadata": {},
   "outputs": [
    {
     "data": {
      "text/plain": [
       "['Grau de Risco',\n",
       " 'SEGMENTO DA ATIVIDADE ECONÔMICA',\n",
       " 'regiao_Centro-Oeste',\n",
       " 'regiao_Centro-Sul',\n",
       " 'regiao_Leste',\n",
       " 'regiao_Norte',\n",
       " 'regiao_Oeste',\n",
       " 'regiao_Sul',\n",
       " 'subgrupo_ALIMENTOS',\n",
       " 'subgrupo_ASSISTÊNCIA À SAÚDE',\n",
       " 'subgrupo_COSMÉTICOS',\n",
       " 'subgrupo_DIVERSOS',\n",
       " 'subgrupo_INTERESSE Á SAÚDE',\n",
       " 'subgrupo_MEDICAMENTOS',\n",
       " 'subgrupo_PPS',\n",
       " 'subgrupo_SANEANTES']"
      ]
     },
     "execution_count": 155,
     "metadata": {},
     "output_type": "execute_result"
    }
   ],
   "source": [
    "features"
   ]
  },
  {
   "cell_type": "code",
   "execution_count": 156,
   "metadata": {},
   "outputs": [],
   "source": [
    "X = db[features]\n",
    "y = db[target]"
   ]
  },
  {
   "cell_type": "code",
   "execution_count": 130,
   "metadata": {},
   "outputs": [
    {
     "data": {
      "text/html": [
       "<div>\n",
       "<style scoped>\n",
       "    .dataframe tbody tr th:only-of-type {\n",
       "        vertical-align: middle;\n",
       "    }\n",
       "\n",
       "    .dataframe tbody tr th {\n",
       "        vertical-align: top;\n",
       "    }\n",
       "\n",
       "    .dataframe thead th {\n",
       "        text-align: right;\n",
       "    }\n",
       "</style>\n",
       "<table border=\"1\" class=\"dataframe\">\n",
       "  <thead>\n",
       "    <tr style=\"text-align: right;\">\n",
       "      <th></th>\n",
       "      <th>Grau de Risco</th>\n",
       "      <th>SEGMENTO DA ATIVIDADE ECONÔMICA</th>\n",
       "      <th>regiao_Centro-Oeste</th>\n",
       "      <th>regiao_Centro-Oeste</th>\n",
       "      <th>regiao_Centro-Sul</th>\n",
       "      <th>regiao_Centro-Sul</th>\n",
       "      <th>regiao_Leste</th>\n",
       "      <th>regiao_Leste</th>\n",
       "      <th>regiao_Norte</th>\n",
       "      <th>regiao_Norte</th>\n",
       "      <th>...</th>\n",
       "      <th>regiao_Sul</th>\n",
       "      <th>regiao_Sul</th>\n",
       "      <th>subgrupo_ALIMENTOS</th>\n",
       "      <th>subgrupo_ASSISTÊNCIA À SAÚDE</th>\n",
       "      <th>subgrupo_COSMÉTICOS</th>\n",
       "      <th>subgrupo_DIVERSOS</th>\n",
       "      <th>subgrupo_INTERESSE Á SAÚDE</th>\n",
       "      <th>subgrupo_MEDICAMENTOS</th>\n",
       "      <th>subgrupo_PPS</th>\n",
       "      <th>subgrupo_SANEANTES</th>\n",
       "    </tr>\n",
       "  </thead>\n",
       "  <tbody>\n",
       "    <tr>\n",
       "      <th>0</th>\n",
       "      <td>0</td>\n",
       "      <td>0</td>\n",
       "      <td>0</td>\n",
       "      <td>0</td>\n",
       "      <td>0</td>\n",
       "      <td>0</td>\n",
       "      <td>0</td>\n",
       "      <td>0</td>\n",
       "      <td>0</td>\n",
       "      <td>0</td>\n",
       "      <td>...</td>\n",
       "      <td>0</td>\n",
       "      <td>0</td>\n",
       "      <td>1</td>\n",
       "      <td>0</td>\n",
       "      <td>0</td>\n",
       "      <td>0</td>\n",
       "      <td>0</td>\n",
       "      <td>0</td>\n",
       "      <td>0</td>\n",
       "      <td>0</td>\n",
       "    </tr>\n",
       "    <tr>\n",
       "      <th>1</th>\n",
       "      <td>1</td>\n",
       "      <td>0</td>\n",
       "      <td>1</td>\n",
       "      <td>1</td>\n",
       "      <td>0</td>\n",
       "      <td>0</td>\n",
       "      <td>0</td>\n",
       "      <td>0</td>\n",
       "      <td>0</td>\n",
       "      <td>0</td>\n",
       "      <td>...</td>\n",
       "      <td>0</td>\n",
       "      <td>0</td>\n",
       "      <td>1</td>\n",
       "      <td>0</td>\n",
       "      <td>0</td>\n",
       "      <td>0</td>\n",
       "      <td>0</td>\n",
       "      <td>0</td>\n",
       "      <td>0</td>\n",
       "      <td>0</td>\n",
       "    </tr>\n",
       "    <tr>\n",
       "      <th>2</th>\n",
       "      <td>1</td>\n",
       "      <td>0</td>\n",
       "      <td>0</td>\n",
       "      <td>0</td>\n",
       "      <td>1</td>\n",
       "      <td>1</td>\n",
       "      <td>0</td>\n",
       "      <td>0</td>\n",
       "      <td>0</td>\n",
       "      <td>0</td>\n",
       "      <td>...</td>\n",
       "      <td>0</td>\n",
       "      <td>0</td>\n",
       "      <td>0</td>\n",
       "      <td>0</td>\n",
       "      <td>1</td>\n",
       "      <td>0</td>\n",
       "      <td>0</td>\n",
       "      <td>0</td>\n",
       "      <td>0</td>\n",
       "      <td>0</td>\n",
       "    </tr>\n",
       "    <tr>\n",
       "      <th>3</th>\n",
       "      <td>1</td>\n",
       "      <td>0</td>\n",
       "      <td>0</td>\n",
       "      <td>0</td>\n",
       "      <td>1</td>\n",
       "      <td>1</td>\n",
       "      <td>0</td>\n",
       "      <td>0</td>\n",
       "      <td>0</td>\n",
       "      <td>0</td>\n",
       "      <td>...</td>\n",
       "      <td>0</td>\n",
       "      <td>0</td>\n",
       "      <td>1</td>\n",
       "      <td>0</td>\n",
       "      <td>0</td>\n",
       "      <td>0</td>\n",
       "      <td>0</td>\n",
       "      <td>0</td>\n",
       "      <td>0</td>\n",
       "      <td>0</td>\n",
       "    </tr>\n",
       "    <tr>\n",
       "      <th>4</th>\n",
       "      <td>1</td>\n",
       "      <td>1</td>\n",
       "      <td>0</td>\n",
       "      <td>0</td>\n",
       "      <td>0</td>\n",
       "      <td>0</td>\n",
       "      <td>0</td>\n",
       "      <td>0</td>\n",
       "      <td>0</td>\n",
       "      <td>0</td>\n",
       "      <td>...</td>\n",
       "      <td>1</td>\n",
       "      <td>1</td>\n",
       "      <td>0</td>\n",
       "      <td>0</td>\n",
       "      <td>0</td>\n",
       "      <td>0</td>\n",
       "      <td>1</td>\n",
       "      <td>0</td>\n",
       "      <td>0</td>\n",
       "      <td>0</td>\n",
       "    </tr>\n",
       "    <tr>\n",
       "      <th>...</th>\n",
       "      <td>...</td>\n",
       "      <td>...</td>\n",
       "      <td>...</td>\n",
       "      <td>...</td>\n",
       "      <td>...</td>\n",
       "      <td>...</td>\n",
       "      <td>...</td>\n",
       "      <td>...</td>\n",
       "      <td>...</td>\n",
       "      <td>...</td>\n",
       "      <td>...</td>\n",
       "      <td>...</td>\n",
       "      <td>...</td>\n",
       "      <td>...</td>\n",
       "      <td>...</td>\n",
       "      <td>...</td>\n",
       "      <td>...</td>\n",
       "      <td>...</td>\n",
       "      <td>...</td>\n",
       "      <td>...</td>\n",
       "      <td>...</td>\n",
       "    </tr>\n",
       "    <tr>\n",
       "      <th>9530</th>\n",
       "      <td>0</td>\n",
       "      <td>1</td>\n",
       "      <td>0</td>\n",
       "      <td>0</td>\n",
       "      <td>1</td>\n",
       "      <td>1</td>\n",
       "      <td>0</td>\n",
       "      <td>0</td>\n",
       "      <td>0</td>\n",
       "      <td>0</td>\n",
       "      <td>...</td>\n",
       "      <td>0</td>\n",
       "      <td>0</td>\n",
       "      <td>0</td>\n",
       "      <td>1</td>\n",
       "      <td>0</td>\n",
       "      <td>0</td>\n",
       "      <td>0</td>\n",
       "      <td>0</td>\n",
       "      <td>0</td>\n",
       "      <td>0</td>\n",
       "    </tr>\n",
       "    <tr>\n",
       "      <th>9531</th>\n",
       "      <td>0</td>\n",
       "      <td>0</td>\n",
       "      <td>0</td>\n",
       "      <td>0</td>\n",
       "      <td>1</td>\n",
       "      <td>1</td>\n",
       "      <td>0</td>\n",
       "      <td>0</td>\n",
       "      <td>0</td>\n",
       "      <td>0</td>\n",
       "      <td>...</td>\n",
       "      <td>0</td>\n",
       "      <td>0</td>\n",
       "      <td>1</td>\n",
       "      <td>0</td>\n",
       "      <td>0</td>\n",
       "      <td>0</td>\n",
       "      <td>0</td>\n",
       "      <td>0</td>\n",
       "      <td>0</td>\n",
       "      <td>0</td>\n",
       "    </tr>\n",
       "    <tr>\n",
       "      <th>9532</th>\n",
       "      <td>1</td>\n",
       "      <td>0</td>\n",
       "      <td>0</td>\n",
       "      <td>0</td>\n",
       "      <td>0</td>\n",
       "      <td>0</td>\n",
       "      <td>0</td>\n",
       "      <td>0</td>\n",
       "      <td>0</td>\n",
       "      <td>0</td>\n",
       "      <td>...</td>\n",
       "      <td>0</td>\n",
       "      <td>0</td>\n",
       "      <td>1</td>\n",
       "      <td>0</td>\n",
       "      <td>0</td>\n",
       "      <td>0</td>\n",
       "      <td>0</td>\n",
       "      <td>0</td>\n",
       "      <td>0</td>\n",
       "      <td>0</td>\n",
       "    </tr>\n",
       "    <tr>\n",
       "      <th>9533</th>\n",
       "      <td>0</td>\n",
       "      <td>0</td>\n",
       "      <td>0</td>\n",
       "      <td>0</td>\n",
       "      <td>1</td>\n",
       "      <td>1</td>\n",
       "      <td>0</td>\n",
       "      <td>0</td>\n",
       "      <td>0</td>\n",
       "      <td>0</td>\n",
       "      <td>...</td>\n",
       "      <td>0</td>\n",
       "      <td>0</td>\n",
       "      <td>0</td>\n",
       "      <td>0</td>\n",
       "      <td>0</td>\n",
       "      <td>0</td>\n",
       "      <td>0</td>\n",
       "      <td>1</td>\n",
       "      <td>0</td>\n",
       "      <td>0</td>\n",
       "    </tr>\n",
       "    <tr>\n",
       "      <th>9534</th>\n",
       "      <td>1</td>\n",
       "      <td>0</td>\n",
       "      <td>0</td>\n",
       "      <td>0</td>\n",
       "      <td>0</td>\n",
       "      <td>0</td>\n",
       "      <td>0</td>\n",
       "      <td>0</td>\n",
       "      <td>1</td>\n",
       "      <td>1</td>\n",
       "      <td>...</td>\n",
       "      <td>0</td>\n",
       "      <td>0</td>\n",
       "      <td>0</td>\n",
       "      <td>0</td>\n",
       "      <td>1</td>\n",
       "      <td>0</td>\n",
       "      <td>0</td>\n",
       "      <td>0</td>\n",
       "      <td>0</td>\n",
       "      <td>0</td>\n",
       "    </tr>\n",
       "  </tbody>\n",
       "</table>\n",
       "<p>9535 rows × 22 columns</p>\n",
       "</div>"
      ],
      "text/plain": [
       "      Grau de Risco  SEGMENTO DA ATIVIDADE ECONÔMICA  regiao_Centro-Oeste  \\\n",
       "0                 0                                0                    0   \n",
       "1                 1                                0                    1   \n",
       "2                 1                                0                    0   \n",
       "3                 1                                0                    0   \n",
       "4                 1                                1                    0   \n",
       "...             ...                              ...                  ...   \n",
       "9530              0                                1                    0   \n",
       "9531              0                                0                    0   \n",
       "9532              1                                0                    0   \n",
       "9533              0                                0                    0   \n",
       "9534              1                                0                    0   \n",
       "\n",
       "      regiao_Centro-Oeste  regiao_Centro-Sul  regiao_Centro-Sul  regiao_Leste  \\\n",
       "0                       0                  0                  0             0   \n",
       "1                       1                  0                  0             0   \n",
       "2                       0                  1                  1             0   \n",
       "3                       0                  1                  1             0   \n",
       "4                       0                  0                  0             0   \n",
       "...                   ...                ...                ...           ...   \n",
       "9530                    0                  1                  1             0   \n",
       "9531                    0                  1                  1             0   \n",
       "9532                    0                  0                  0             0   \n",
       "9533                    0                  1                  1             0   \n",
       "9534                    0                  0                  0             0   \n",
       "\n",
       "      regiao_Leste  regiao_Norte  regiao_Norte  ...  regiao_Sul  regiao_Sul  \\\n",
       "0                0             0             0  ...           0           0   \n",
       "1                0             0             0  ...           0           0   \n",
       "2                0             0             0  ...           0           0   \n",
       "3                0             0             0  ...           0           0   \n",
       "4                0             0             0  ...           1           1   \n",
       "...            ...           ...           ...  ...         ...         ...   \n",
       "9530             0             0             0  ...           0           0   \n",
       "9531             0             0             0  ...           0           0   \n",
       "9532             0             0             0  ...           0           0   \n",
       "9533             0             0             0  ...           0           0   \n",
       "9534             0             1             1  ...           0           0   \n",
       "\n",
       "      subgrupo_ALIMENTOS  subgrupo_ASSISTÊNCIA À SAÚDE  subgrupo_COSMÉTICOS  \\\n",
       "0                      1                             0                    0   \n",
       "1                      1                             0                    0   \n",
       "2                      0                             0                    1   \n",
       "3                      1                             0                    0   \n",
       "4                      0                             0                    0   \n",
       "...                  ...                           ...                  ...   \n",
       "9530                   0                             1                    0   \n",
       "9531                   1                             0                    0   \n",
       "9532                   1                             0                    0   \n",
       "9533                   0                             0                    0   \n",
       "9534                   0                             0                    1   \n",
       "\n",
       "      subgrupo_DIVERSOS  subgrupo_INTERESSE Á SAÚDE  subgrupo_MEDICAMENTOS  \\\n",
       "0                     0                           0                      0   \n",
       "1                     0                           0                      0   \n",
       "2                     0                           0                      0   \n",
       "3                     0                           0                      0   \n",
       "4                     0                           1                      0   \n",
       "...                 ...                         ...                    ...   \n",
       "9530                  0                           0                      0   \n",
       "9531                  0                           0                      0   \n",
       "9532                  0                           0                      0   \n",
       "9533                  0                           0                      1   \n",
       "9534                  0                           0                      0   \n",
       "\n",
       "      subgrupo_PPS  subgrupo_SANEANTES  \n",
       "0                0                   0  \n",
       "1                0                   0  \n",
       "2                0                   0  \n",
       "3                0                   0  \n",
       "4                0                   0  \n",
       "...            ...                 ...  \n",
       "9530             0                   0  \n",
       "9531             0                   0  \n",
       "9532             0                   0  \n",
       "9533             0                   0  \n",
       "9534             0                   0  \n",
       "\n",
       "[9535 rows x 22 columns]"
      ]
     },
     "execution_count": 130,
     "metadata": {},
     "output_type": "execute_result"
    }
   ],
   "source": [
    "X"
   ]
  },
  {
   "cell_type": "code",
   "execution_count": 159,
   "metadata": {},
   "outputs": [
    {
     "name": "stderr",
     "output_type": "stream",
     "text": [
      "<ipython-input-159-bbd7ddce3776>:1: SettingWithCopyWarning: \n",
      "A value is trying to be set on a copy of a slice from a DataFrame.\n",
      "Try using .loc[row_indexer,col_indexer] = value instead\n",
      "\n",
      "See the caveats in the documentation: https://pandas.pydata.org/pandas-docs/stable/user_guide/indexing.html#returning-a-view-versus-a-copy\n",
      "  X['Grau de Risco'] = X['Grau de Risco'].map(map_grau_de_risco)\n",
      "<ipython-input-159-bbd7ddce3776>:2: SettingWithCopyWarning: \n",
      "A value is trying to be set on a copy of a slice from a DataFrame.\n",
      "Try using .loc[row_indexer,col_indexer] = value instead\n",
      "\n",
      "See the caveats in the documentation: https://pandas.pydata.org/pandas-docs/stable/user_guide/indexing.html#returning-a-view-versus-a-copy\n",
      "  X['SEGMENTO DA ATIVIDADE ECONÔMICA'] = X['SEGMENTO DA ATIVIDADE ECONÔMICA'].map(map_segmento)\n",
      "<ipython-input-159-bbd7ddce3776>:3: SettingWithCopyWarning: \n",
      "A value is trying to be set on a copy of a slice from a DataFrame.\n",
      "Try using .loc[row_indexer,col_indexer] = value instead\n",
      "\n",
      "See the caveats in the documentation: https://pandas.pydata.org/pandas-docs/stable/user_guide/indexing.html#returning-a-view-versus-a-copy\n",
      "  y['label_licenciados'] = y['label_licenciados'].map(map_licenciados)\n"
     ]
    }
   ],
   "source": [
    "X['Grau de Risco'] = X['Grau de Risco'].map(map_grau_de_risco)\n",
    "X['SEGMENTO DA ATIVIDADE ECONÔMICA'] = X['SEGMENTO DA ATIVIDADE ECONÔMICA'].map(map_segmento)\n",
    "y['label_licenciados'] = y['label_licenciados'].map(map_licenciados)"
   ]
  },
  {
   "cell_type": "code",
   "execution_count": 167,
   "metadata": {},
   "outputs": [
    {
     "data": {
      "text/plain": [
       "True"
      ]
     },
     "execution_count": 167,
     "metadata": {},
     "output_type": "execute_result"
    }
   ],
   "source": [
    "dtree = DecisionTreeClassifier()\n",
    "dtree = dtree.fit(X, y)\n",
    "data = tree.export_graphviz(dtree, out_file=None, feature_names=features)\n",
    "graph = pydotplus.graph_from_dot_data(data)\n",
    "graph.write_png('decision_tree.png')"
   ]
  },
  {
   "cell_type": "markdown",
   "metadata": {},
   "source": [
    "# Regressão Logística"
   ]
  },
  {
   "cell_type": "code",
   "execution_count": 163,
   "metadata": {},
   "outputs": [],
   "source": [
    "from sklearn.datasets import make_classification\n",
    "from sklearn.linear_model import LogisticRegression"
   ]
  },
  {
   "cell_type": "code",
   "execution_count": 164,
   "metadata": {},
   "outputs": [
    {
     "name": "stderr",
     "output_type": "stream",
     "text": [
      "/home/igoromote/.local/lib/python3.8/site-packages/sklearn/utils/validation.py:63: DataConversionWarning: A column-vector y was passed when a 1d array was expected. Please change the shape of y to (n_samples, ), for example using ravel().\n",
      "  return f(*args, **kwargs)\n",
      "/home/igoromote/.local/lib/python3.8/site-packages/sklearn/linear_model/_logistic.py:763: ConvergenceWarning: lbfgs failed to converge (status=1):\n",
      "STOP: TOTAL NO. of ITERATIONS REACHED LIMIT.\n",
      "\n",
      "Increase the number of iterations (max_iter) or scale the data as shown in:\n",
      "    https://scikit-learn.org/stable/modules/preprocessing.html\n",
      "Please also refer to the documentation for alternative solver options:\n",
      "    https://scikit-learn.org/stable/modules/linear_model.html#logistic-regression\n",
      "  n_iter_i = _check_optimize_result(\n"
     ]
    }
   ],
   "source": [
    "model = LogisticRegression(multi_class='multinomial', solver = 'lbfgs')\n",
    "\n",
    "fitting = model.fit(X, y)"
   ]
  },
  {
   "cell_type": "code",
   "execution_count": 165,
   "metadata": {},
   "outputs": [
    {
     "data": {
      "text/plain": [
       "0.5705296276874672"
      ]
     },
     "execution_count": 165,
     "metadata": {},
     "output_type": "execute_result"
    }
   ],
   "source": [
    "fitting.score(X,y)"
   ]
  },
  {
   "cell_type": "code",
   "execution_count": 166,
   "metadata": {},
   "outputs": [
    {
     "data": {
      "text/plain": [
       "array([[-2.87306223e-01, -6.62730031e-02,  2.81545342e-02,\n",
       "        -1.16994391e-01,  8.56825131e-02,  6.21641492e-02,\n",
       "        -1.92859395e-02, -2.83902223e-02,  3.01991652e-02,\n",
       "         1.46001781e-01, -2.98479736e-01,  2.15805546e-01,\n",
       "        -6.83981338e-02, -1.90342130e-01, -4.60984952e-02,\n",
       "         2.22642648e-01],\n",
       "       [ 1.49002367e+00, -2.64615441e-02, -7.73236050e-02,\n",
       "         6.85162889e-02,  4.63211693e-04, -9.40232469e-02,\n",
       "         1.05872354e-02,  6.56131395e-02, -1.68598361e-01,\n",
       "        -1.21859758e-01,  3.63565427e-01, -1.37371027e-01,\n",
       "         1.22154326e-01, -4.39934848e-02,  2.64885574e-02,\n",
       "        -6.65526555e-02],\n",
       "       [-1.20271745e+00,  9.27345471e-02,  4.91690709e-02,\n",
       "         4.84781020e-02, -8.61457248e-02,  3.18590977e-02,\n",
       "         8.69870410e-03, -3.72229172e-02,  1.38399196e-01,\n",
       "        -2.41420227e-02, -6.50856903e-02, -7.84345188e-02,\n",
       "        -5.37561919e-02,  2.34335615e-01,  1.96099378e-02,\n",
       "        -1.56089992e-01]])"
      ]
     },
     "execution_count": 166,
     "metadata": {},
     "output_type": "execute_result"
    }
   ],
   "source": [
    "fitting.coef_"
   ]
  }
 ],
 "metadata": {
  "kernelspec": {
   "display_name": "Python 3",
   "language": "python",
   "name": "python3"
  },
  "language_info": {
   "codemirror_mode": {
    "name": "ipython",
    "version": 3
   },
   "file_extension": ".py",
   "mimetype": "text/x-python",
   "name": "python",
   "nbconvert_exporter": "python",
   "pygments_lexer": "ipython3",
   "version": "3.8.5"
  }
 },
 "nbformat": 4,
 "nbformat_minor": 4
}
